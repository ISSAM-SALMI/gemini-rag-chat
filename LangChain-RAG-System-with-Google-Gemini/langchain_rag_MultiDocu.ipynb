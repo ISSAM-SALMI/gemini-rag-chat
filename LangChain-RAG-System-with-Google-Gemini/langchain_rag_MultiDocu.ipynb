{
 "cells": [
  {
   "cell_type": "code",
   "execution_count": 1,
   "metadata": {},
   "outputs": [],
   "source": [
    "with open(\"gemini_api_key.txt\") as f:\n",
    "    key = f.read().strip()"
   ]
  },
  {
   "cell_type": "code",
   "execution_count": 2,
   "metadata": {},
   "outputs": [
    {
     "name": "stdout",
     "output_type": "stream",
     "text": [
      "model='models/gemini-1.5-pro-latest' google_api_key=SecretStr('**********') client=<google.ai.generativelanguage_v1beta.services.generative_service.client.GenerativeServiceClient object at 0x000001B9D31C17F0> default_metadata=()\n"
     ]
    }
   ],
   "source": [
    "from langchain_google_genai import ChatGoogleGenerativeAI\n",
    "\n",
    "chat_model = ChatGoogleGenerativeAI(google_api_key=key, \n",
    "                                   model=\"gemini-1.5-pro-latest\")\n",
    "print(chat_model)"
   ]
  },
  {
   "cell_type": "code",
   "execution_count": 4,
   "metadata": {},
   "outputs": [],
   "source": [
    "from langchain_community.document_loaders import PyPDFLoader\n",
    "\n",
    "loaders = [\n",
    "    PyPDFLoader(\"Finance.pdf\"),\n",
    "    PyPDFLoader(\"IT.pdf\"),\n",
    "    PyPDFLoader(\"Juridique.pdf\"),\n",
    "]\n",
    "\n",
    "all_pages = []\n",
    "for loader in loaders:\n",
    "    all_pages.extend(loader.load_and_split())"
   ]
  },
  {
   "cell_type": "code",
   "execution_count": 6,
   "metadata": {},
   "outputs": [
    {
     "data": {
      "text/plain": [
       "[Document(metadata={'producer': 'pdfTeX-1.40.26', 'creator': 'LaTeX with hyperref', 'creationdate': '2025-04-29T08:26:50+00:00', 'author': '', 'keywords': '', 'moddate': '2025-04-29T08:26:50+00:00', 'ptex.fullbanner': 'This is pdfTeX, Version 3.141592653-2.6-1.40.26 (TeX Live 2024) kpathsea version 6.4.0', 'subject': '', 'title': '', 'trapped': '/False', 'source': 'Finance.pdf', 'total_pages': 5, 'page': 0, 'page_label': '1'}, page_content='April 29, 2025\\n1. Company Overview\\n1.1 Introduction to TOPG Informatics\\nTOPG Informatics is a forward-thinking IT services company founded in 2022 with a\\nmission to democratize access to high-quality digital solutions. Based in Morocco, the\\ncompany operates across several fields including software development, IT consulting,\\ncybersecurity, network architecture, data engineering, and cloud services. With a skilled\\nworkforce and a strong commitment to innovation, TOPG has rapidly gained a solid\\nreputation among SMEs, governmental institutions, and private organizations.\\n1.2 Mission and Vision\\nTOPG’s mission is to empower businesses through smart and scalable IT solutions. The\\nvision is to become a leading provider of integrated technology services in North Africa,\\nfocusing on innovation, sustainability, and excellence. The company promotes a culture\\nof continuous learning and places customer satisfaction at the heart of its operations.\\n1.3 Core Values\\nIntegrity, innovation, client-centricity, collaboration, and efficiency are the pillars that\\nguide TOPG’s strategic decisions. The company believes in long-term partnerships and\\naims to deliver tangible value through every project it undertakes.\\n2. Business Model\\n2.1 Revenue Streams\\nTOPGgeneratesitsincomethroughacombinationofproject-basedsoftwaredevelopment,\\nIT maintenance contracts, and specialized services such as penetration testing and cloud\\n1'),\n",
       " Document(metadata={'producer': 'pdfTeX-1.40.26', 'creator': 'LaTeX with hyperref', 'creationdate': '2025-04-29T08:26:50+00:00', 'author': '', 'keywords': '', 'moddate': '2025-04-29T08:26:50+00:00', 'ptex.fullbanner': 'This is pdfTeX, Version 3.141592653-2.6-1.40.26 (TeX Live 2024) kpathsea version 6.4.0', 'subject': '', 'title': '', 'trapped': '/False', 'source': 'Finance.pdf', 'total_pages': 5, 'page': 1, 'page_label': '2'}, page_content='Financial Report TOPG Informatics\\nmigration. A growing share of revenue also comes from subscription-based SaaS products\\nand professional training sessions tailored to the digital transformation needs of clients.\\n2.2 Service Delivery Strategy\\nThe company leverages Agile methodologies and DevOps practices to ensure fast and\\nsecure delivery of IT services. It utilizes both in-house and cloud-based infrastructure\\nto reduce operational overhead and improve scalability. This hybrid model has allowed\\nTOPG to maintain competitive pricing while ensuring premium service quality.\\n2.3 Customer Relationship and Retention\\nTOPG places a high priority on customer engagement, offering continuous support, sys-\\ntem upgrades, and post-deployment training. Client retention strategies include loyalty\\ndiscounts, technical newsletters, and feedback-driven service improvements.\\n3. Financial Performance Overview\\n3.1 Revenue Growth\\nSince its creation, TOPG has shown consistent revenue growth, with a compound annual\\ngrowth rate (CAGR) of 32%. In 2024, the company surpassed its projected revenue target\\nby 15%, driven by major client acquisitions and expanded market reach.\\n3.2 Profitability\\nDespite high initial investment in infrastructure and personnel, the company achieved\\na healthy profit margin. This was made possible through effective cost management,\\noutsourcing of non-core activities, and strategic project pricing.\\n3.3 Liquidity and Solvency\\nTOPG maintains strong liquidity ratios, ensuring the company can meet its short-term\\nobligations. It avoids long-term debt and finances most of its expansion through retained\\nearnings and strategic reinvestments.\\n2'),\n",
       " Document(metadata={'producer': 'pdfTeX-1.40.26', 'creator': 'LaTeX with hyperref', 'creationdate': '2025-04-29T08:26:50+00:00', 'author': '', 'keywords': '', 'moddate': '2025-04-29T08:26:50+00:00', 'ptex.fullbanner': 'This is pdfTeX, Version 3.141592653-2.6-1.40.26 (TeX Live 2024) kpathsea version 6.4.0', 'subject': '', 'title': '', 'trapped': '/False', 'source': 'Finance.pdf', 'total_pages': 5, 'page': 2, 'page_label': '3'}, page_content='Financial Report TOPG Informatics\\n4. Expense Analysis\\n4.1 Operational Expenses\\nThe majority of operational costs are attributed to employee salaries, reflecting the techni-\\ncal expertise required to deliver complex IT solutions. The company also incurs expenses\\nin software licensing, equipment maintenance, cloud infrastructure, and office utilities.\\n4.2 Administrative and Legal Costs\\nAdministrative expenses include office rent, legal compliance fees, and insurance. These\\ncosts are kept under control through digital document management systems and remote\\nwork policies, which reduce physical overhead.\\n4.3 Marketing and Client Acquisition\\nThe company allocates a modest budget for marketing activities, including digital cam-\\npaigns, tech conferences, and client events. However, a large part of business growth is\\nattributed to word-of-mouth and referral-based acquisition due to the quality of service\\ndelivered.\\n5. Investment Strategy\\n5.1 Technology and Infrastructure\\nTOPG reinvests a significant portion of its profits into upgrading its technical infrastruc-\\nture. Recent investments include scalable cloud platforms, enhanced cybersecurity tools,\\nand AI-based development frameworks.\\n5.2 Human Capital Development\\nRecognizing the importance of talent, the company invests in continuous professional de-\\nvelopment. Employees are encouraged to earn certifications in cloud engineering, DevOps,\\ndata science, and project management.\\n5.3 Research and Development (R&D)\\nTOPG allocates part of its budget to R&D initiatives focused on automation, blockchain,\\nand machine learning applications. The objective is to anticipate industry trends and\\ndevelop intellectual property that enhances the company’s service offerings.\\n3'),\n",
       " Document(metadata={'producer': 'pdfTeX-1.40.26', 'creator': 'LaTeX with hyperref', 'creationdate': '2025-04-29T08:26:50+00:00', 'author': '', 'keywords': '', 'moddate': '2025-04-29T08:26:50+00:00', 'ptex.fullbanner': 'This is pdfTeX, Version 3.141592653-2.6-1.40.26 (TeX Live 2024) kpathsea version 6.4.0', 'subject': '', 'title': '', 'trapped': '/False', 'source': 'Finance.pdf', 'total_pages': 5, 'page': 3, 'page_label': '4'}, page_content='Financial Report TOPG Informatics\\n6. Future Growth and Strategic Outlook\\n6.1 Market Expansion\\nTOPG plans to extend its services to new geographic regions, including French-speaking\\nAfrican countries. Strategic partnerships and franchising opportunities are being explored\\nto facilitate international growth.\\n6.2 Product Diversification\\nThe company is working on several new SaaS platforms aimed at small businesses. These\\ninclude tools for invoice automation, project tracking, and secure file storage, designed\\nwith a user-friendly interface and competitive pricing.\\n6.3 Sustainability and Social Responsibility\\nTOPG is committed to sustainable practices. This includes energy-efficient office oper-\\nations, digital resource sharing, and involvement in educational programs that promote\\ncoding and digital skills among youth.\\n7. Risk Management\\n7.1 Financial Risks\\nTOPG mitigates financial risk by diversifying its revenue sources and maintaining a buffer\\nof liquid assets. Regular audits and forecasting tools are used to monitor financial health\\nand adjust strategies accordingly.\\n7.2 Cybersecurity Threats\\nGiven the nature of its operations, the company places a strong emphasis on cybersecurity.\\nFirewalls, endpoint protection, and continuous threat monitoring are implemented to\\nensure data safety and business continuity.\\n7.3 Talent Retention\\nTo reduce employee turnover, TOPG fosters a positive work culture with flexibility, recog-\\nnition programs, and career growth opportunities. Retention strategies also include men-\\ntorship, performance bonuses, and collaborative project opportunities.\\n4'),\n",
       " Document(metadata={'producer': 'pdfTeX-1.40.26', 'creator': 'LaTeX with hyperref', 'creationdate': '2025-04-29T08:26:50+00:00', 'author': '', 'keywords': '', 'moddate': '2025-04-29T08:26:50+00:00', 'ptex.fullbanner': 'This is pdfTeX, Version 3.141592653-2.6-1.40.26 (TeX Live 2024) kpathsea version 6.4.0', 'subject': '', 'title': '', 'trapped': '/False', 'source': 'Finance.pdf', 'total_pages': 5, 'page': 4, 'page_label': '5'}, page_content='Financial Report TOPG Informatics\\n8. Conclusion and Final Thoughts\\nTOPG Informatics has positioned itself as a strong player in the Moroccan tech ecosystem.\\nItssoundfinancialpractices, customer-focusedservices, andinnovative mindsetcontribute\\nto its sustainable success. The future outlook is promising, with opportunities for regional\\nexpansion, new product launches, and technological leadership.\\nThrough disciplined investment, a loyal client base, and a visionary leadership team,\\nTOPG is well-prepared to scale new heights in the coming years. Financially stable and\\nstrategically focused, the company continues to deliver measurable value to stakeholders\\nand shape the future of digital transformation in North Africa.\\n5'),\n",
       " Document(metadata={'producer': 'pdfTeX-1.40.26', 'creator': 'LaTeX with hyperref', 'creationdate': '2025-04-29T08:54:06+00:00', 'author': '', 'keywords': '', 'moddate': '2025-04-29T08:54:06+00:00', 'ptex.fullbanner': 'This is pdfTeX, Version 3.141592653-2.6-1.40.26 (TeX Live 2024) kpathsea version 6.4.0', 'subject': '', 'title': '', 'trapped': '/False', 'source': 'IT.pdf', 'total_pages': 4, 'page': 0, 'page_label': '1'}, page_content='TOPG Informatics: Comprehensive IT\\nSolutions and Services\\nTOPG Informatics\\nApril 29, 2025\\nIntroduction\\nAt TOPG Informatics, we are committed to delivering cutting-edge IT solutions tailored\\nto meet the needs of our clients. With years of experience in the technology sector, we\\nprovide a wide range of services, from IT consulting to full-scale software development,\\nensuring your business leverages the power of technology to drive growth and efficiency.\\nThis document outlines the full spectrum of services we offer, our technological capabili-\\nties, and how we help businesses navigate the evolving IT landscape.\\n1 1. Our IT Services\\n1.1 Software Development\\nOur software development services are designed to help businesses build custom appli-\\ncations that meet their unique needs. We specialize in web development, mobile app\\ndevelopment, and enterprise solutions, using the latest technologies to create scalable and\\nsecure software systems. Our team works closely with clients to ensure that each product\\naligns with their business objectives.\\n1.2 Cloud Solutions\\nTOPG Informatics offers cloud computing solutions to enable businesses to scale, opti-\\nmize resources, and improve efficiency. Whether it’s cloud storage, computing power, or\\ndisaster recovery, we help businesses transition to the cloud with ease, ensuring seamless\\nintegration and continuous operation.\\n1.3 IT Support Maintenance\\nWe provide comprehensive IT support and maintenance services to ensure the smooth op-\\neration of your IT infrastructure. Our services include system monitoring, troubleshoot-\\ning, software updates, and network maintenance. We provide 24/7 support to address\\nany issues that may arise, minimizing downtime and maximizing productivity.\\n1'),\n",
       " Document(metadata={'producer': 'pdfTeX-1.40.26', 'creator': 'LaTeX with hyperref', 'creationdate': '2025-04-29T08:54:06+00:00', 'author': '', 'keywords': '', 'moddate': '2025-04-29T08:54:06+00:00', 'ptex.fullbanner': 'This is pdfTeX, Version 3.141592653-2.6-1.40.26 (TeX Live 2024) kpathsea version 6.4.0', 'subject': '', 'title': '', 'trapped': '/False', 'source': 'IT.pdf', 'total_pages': 4, 'page': 1, 'page_label': '2'}, page_content='TOPG Informatics IT Solutions Services\\n1.4 Cybersecurity Solutions\\nCybersecurity is more important than ever in today’s digital world. Our team offers a\\nrange of cybersecurity services designed to protect your data and systems from cyber\\nthreats. We provide vulnerability assessments, penetration testing, and the implementa-\\ntion of robust security measures to safeguard your business.\\n1.5 Data Analytics Business Intelligence\\nTOPG Informatics helps organizations unlock the power of their data. Our data analytics\\nand business intelligence services provide actionable insights that can inform decision-\\nmaking. We leverage advanced data processing tools and AI-powered analytics to deliver\\nreal-time data-driven solutions.\\n2 2. IT Solutions for Different Industries\\n2.1 Healthcare Solutions\\nIn the healthcare industry, technology plays a critical role in improving patient care\\nand operational efficiency. We provide healthcare IT solutions that integrate electronic\\nhealth records (EHR), patient management systems, and telemedicine platforms. Our\\nsolutions ensure secure data sharing, compliance with regulations, and enhanced patient\\nexperiences.\\n2.2 Retail Solutions\\nThe retail industry requires seamless integration of online and offline platforms to offer\\ncustomers a smooth shopping experience. Our retail IT solutions include e-commerce\\nplatforms, point-of-sale(POS)systems, inventorymanagement, andcustomerrelationship\\nmanagement (CRM) systems that help businesses optimize their operations and enhance\\ncustomer satisfaction.\\n2.3 Financial Services Solutions\\nIn the financial services sector, security, compliance, and efficiency are paramount. Our\\nIT solutions for financial institutions include secure banking systems, automated trading\\nplatforms, risk management software, and regulatory compliance tools. We enable finan-\\ncial businesses to innovate while maintaining the highest levels of security and regulatory\\nadherence.\\n2.4 Education Solutions\\nEducation is being transformed by technology, and our IT solutions in this sector aim to\\nenhance learning experiences. From e-learning platforms to student information systems\\n(SIS) and classroom management tools, we provide technology solutions that empower\\neducational institutions and facilitate effective learning.\\n2'),\n",
       " Document(metadata={'producer': 'pdfTeX-1.40.26', 'creator': 'LaTeX with hyperref', 'creationdate': '2025-04-29T08:54:06+00:00', 'author': '', 'keywords': '', 'moddate': '2025-04-29T08:54:06+00:00', 'ptex.fullbanner': 'This is pdfTeX, Version 3.141592653-2.6-1.40.26 (TeX Live 2024) kpathsea version 6.4.0', 'subject': '', 'title': '', 'trapped': '/False', 'source': 'IT.pdf', 'total_pages': 4, 'page': 2, 'page_label': '3'}, page_content='TOPG Informatics IT Solutions Services\\n3 3. Our Technology Stack\\nWe leverage a wide range of cutting-edge technologies to deliver optimal IT solutions.\\nOur technology stack includes:\\n• Programming Languages:Python, Java, JavaScript, C++, PHP\\n• Web Development:React, Angular, Node.js, Laravel, Django\\n• Cloud Platforms:Amazon Web Services (AWS), Microsoft Azure, Google Cloud\\n• Databases: MySQL, PostgreSQL, MongoDB, Firebase\\n• Cybersecurity Tools:Firewalls, VPNs, Encryption, Intrusion Detection Systems\\n(IDS)\\n• Data Analytics:Hadoop, Apache Spark, Tableau, Power BI\\n4 4. Why Choose TOPG Informatics?\\n4.1 Expertise and Experience\\nWith years of experience in the IT industry, we have built a reputation for delivering high-\\nquality, reliable, and innovative solutions. Our team of skilled developers, IT consultants,\\nand support staff work tirelessly to ensure that your IT needs are met with precision.\\n4.2 Customized Solutions\\nAt TOPG Informatics, we understand that each business is unique. That’s why we offer\\ncustomized IT solutions designed specifically to meet your requirements. Whether you’re\\na small startup or a large enterprise, we tailor our services to ensure they align with your\\nbusiness goals and objectives.\\n4.3 Commitment to Quality\\nWe are committed to providing the highest level of quality in everything we do. From\\nthe initial consultation to the final delivery, we ensure that our services meet the highest\\nstandards of performance, security, and reliability. Our commitment to quality has earned\\nus the trust of numerous clients across various industries.\\n4.4 Customer Support\\nWe believe that excellent customer support is crucial to the success of any IT project.\\nOur dedicated support team is available 24/7 to assist you with any technical issues or\\ninquiries. Whether you need help with troubleshooting, system maintenance, or technical\\nadvice, we’re always here to help.\\n3'),\n",
       " Document(metadata={'producer': 'pdfTeX-1.40.26', 'creator': 'LaTeX with hyperref', 'creationdate': '2025-04-29T08:54:06+00:00', 'author': '', 'keywords': '', 'moddate': '2025-04-29T08:54:06+00:00', 'ptex.fullbanner': 'This is pdfTeX, Version 3.141592653-2.6-1.40.26 (TeX Live 2024) kpathsea version 6.4.0', 'subject': '', 'title': '', 'trapped': '/False', 'source': 'IT.pdf', 'total_pages': 4, 'page': 3, 'page_label': '4'}, page_content='TOPG Informatics IT Solutions Services\\n5 5. Pricing and Packages\\nWe offer flexible pricing models that cater to different needs. Our pricing is based on the\\ncomplexity of the project and the scope of services required. We provide both fixed-price\\npackages for defined projects and hourly rates for ongoing IT support services.\\n5.1 Custom Projects\\nFor custom software development or specialized IT solutions, we offer bespoke pricing\\nbased on project requirements. Our team will provide an accurate quote after under-\\nstanding your needs in detail.\\n5.2 Ongoing Support\\nFor ongoing IT support and maintenance, we offer subscription-based pricing. Clients\\ncan choose from monthly, quarterly, or annual packages, ensuring continuous support and\\nsystem updates.\\n6 6. Conclusion\\nTOPG Informatics is your trusted partner for all your IT needs. From cutting-edge\\nsoftware development to robust cybersecurity solutions, we provide the expertise and\\nsupport necessary to help your business thrive in the digital age. Our customized services\\nensure that your business operates efficiently and securely, giving you a competitive edge\\nin today’s technology-driven world.\\nWe look forward to the opportunity to work with you and help your business achieve\\nits full potential through the power of technology.\\n4'),\n",
       " Document(metadata={'producer': 'pdfTeX-1.40.26', 'creator': 'LaTeX with hyperref', 'creationdate': '2025-04-29T08:52:16+00:00', 'author': '', 'keywords': '', 'moddate': '2025-04-29T08:52:16+00:00', 'ptex.fullbanner': 'This is pdfTeX, Version 3.141592653-2.6-1.40.26 (TeX Live 2024) kpathsea version 6.4.0', 'subject': '', 'title': '', 'trapped': '/False', 'source': 'Juridique.pdf', 'total_pages': 5, 'page': 0, 'page_label': '1'}, page_content='Legal Agreement\\nTOPG Informatics\\nApril 29, 2025\\nIntroduction\\nThis Legal Agreement (hereinafter referred to as the \"Agreement\") is entered into by\\nand betweenTOPG Informatics, a company registered in Morocco with its principal\\nplace of business at [Insert Address] (hereinafter referred to as \"The Company\"), and the\\nundersigned client or partner (hereinafter referred to as \"The Client\"). The parties hereby\\nagree to the following terms and conditions, which will govern the relationship between\\nthem. ThisAgreementoutlinestheresponsibilities, expectations, andfinancialobligations\\nof both parties during the course of their collaboration. By entering into this agreement,\\nboth parties confirm their intent to create a legally binding relationship governed by the\\nprinciples set forth herein.\\nThe Client acknowledges that the services provided under this Agreement are essen-\\ntial for the growth and development of their business. The Company shall ensure that all\\nservices rendered align with the Client’s strategic objectives, providing both short-term\\nsolutions and long-term value. In order to ensure the success of this engagement, both\\nparties must adhere to the timelines and milestones set forth at the commencement of\\nthe project. Delays or deviations from the original plan may affect the overall quality\\nand timeline of the deliverables. As such, both parties agree to maintain open communi-\\ncation throughout the duration of this Agreement, ensuring that any potential issues are\\naddressed promptly.\\n1 1. Purpose of the Agreement\\n1.1 Overview of Services\\nThe purpose of this Agreement is to outline the terms and conditions under which The\\nCompany will provide its services to The Client. The services include, but are not limited\\nto, the development of software solutions, IT consulting and support, cloud computing\\nservices, cybersecurity audits, and business intelligence solutions. The Company agrees\\nto perform these services as per the requirements of the Client and will ensure that all\\ndeliverables meet the highest standards of quality and professionalism.\\n1.2 Commitment to Client Needs\\nThe Client understands that the services provided under this Agreement are critical to\\ntheir business operations. The Company will ensure that each service is tailored to meet\\nthe Client’s specific needs, ensuring maximum value from each deliverable. The Company\\n1'),\n",
       " Document(metadata={'producer': 'pdfTeX-1.40.26', 'creator': 'LaTeX with hyperref', 'creationdate': '2025-04-29T08:52:16+00:00', 'author': '', 'keywords': '', 'moddate': '2025-04-29T08:52:16+00:00', 'ptex.fullbanner': 'This is pdfTeX, Version 3.141592653-2.6-1.40.26 (TeX Live 2024) kpathsea version 6.4.0', 'subject': '', 'title': '', 'trapped': '/False', 'source': 'Juridique.pdf', 'total_pages': 5, 'page': 1, 'page_label': '2'}, page_content='TOPG Informatics Legal Agreement\\nalso commits to being transparent about the progress of services rendered, ensuring that\\nthe Client is fully informed at all stages of the project.\\n2 2. Duration of Agreement\\n2.1 Term of Agreement\\nThe duration of this Agreement is established for an initial term of [Insert duration] years,\\nbeginning on the date of signature by both parties. During this period, the Company will\\nprovide all the services as described in this Agreement and will ensure their completion\\nin accordance with the agreed-upon schedules and quality standards. The term of this\\nAgreement may be extended upon mutual agreement by both parties, subject to a review\\nof the progress made and the evolving needs of the Client.\\n2.2 Extension and Review\\nIn case of an extension, the terms and conditions of the Agreement, including payment\\nschedules, will be revised as necessary. Both parties agree to conduct a thorough review\\nof the performance and outcome of the services provided at the end of the contract term.\\n2.3 Termination Clause\\nShould either party wish to terminate the Agreement prior to its completion, they must\\nprovide written notice to the other party, as outlined in the termination clause. The\\ndecision to extend or terminate the Agreement shall be made in good faith and based on\\nmutual agreement, ensuring the best interests of both parties are considered.\\n3 3. Payment Terms\\n3.1 Payment Schedule\\nThe payment terms outlined in this Agreement are based on the scope of the services\\nprovided and the duration of the project. The total payment for the services rendered by\\nThe Company shall be [Insert amount] Moroccan Dirhams, which includes all applicable\\ntaxes and costs associated with the execution of the project. The Client agrees to make\\npayments as outlined in the following schedule:\\nThe initial payment of [Insert amount] will be made upon signing the Agreement,\\nwhich shall serve as a deposit for the commencement of services. Subsequent payments\\nwill be due upon the completion of each milestone as agreed upon by both parties. The\\nfinal payment, which will cover the remaining balance of the total fee, is due upon the\\ndelivery of the completed project.\\n3.2 Late Payment Clause\\nFailure to make payments on time will result in a late fee as specified in the late payment\\nclause of this Agreement. Any delay in payments may also result in the suspension of\\nservices until the outstanding amount is cleared. The Company reserves the right to cease\\nwork on the project if payments are not received according to the established schedule.\\n2'),\n",
       " Document(metadata={'producer': 'pdfTeX-1.40.26', 'creator': 'LaTeX with hyperref', 'creationdate': '2025-04-29T08:52:16+00:00', 'author': '', 'keywords': '', 'moddate': '2025-04-29T08:52:16+00:00', 'ptex.fullbanner': 'This is pdfTeX, Version 3.141592653-2.6-1.40.26 (TeX Live 2024) kpathsea version 6.4.0', 'subject': '', 'title': '', 'trapped': '/False', 'source': 'Juridique.pdf', 'total_pages': 5, 'page': 2, 'page_label': '3'}, page_content='TOPG Informatics Legal Agreement\\nThe payment terms are designed to ensure the timely completion of the project, and\\nboth parties agree to abide by these terms. Any modification of the payment schedule\\nmust be mutually agreed upon in writing.\\n4 4. Termination of Agreement\\n4.1 Termination by Client\\nThis Agreement may be terminated by the Client prior to the completion of the services\\nprovided. The Client may terminate the Agreement at any time by providing written\\nnotice to The Company. In such cases, the Client agrees to pay for all services rendered\\nup to the point of termination, including any additional costs incurred by The Company\\nin preparation for or execution of the services.\\n4.2 Termination by The Company\\nTheCompanyreservestherighttoterminatetheAgreementimmediatelyiftheClientisin\\nbreach of the terms, including failure to make timely payments, failure to cooperate with\\nThe Company’s team, or providing false or misleading information. Upon termination,\\nall intellectual property created under this Agreement will remain the property of The\\nCompany, unless otherwise agreed upon.\\n4.3 Post-Termination Obligations\\nIn the event of termination, both parties agree to return or destroy all confidential infor-\\nmation and intellectual property shared during the term of the Agreement, in accordance\\nwiththeconfidentialityclause. TheterminationofthisAgreementshallbehandledprofes-\\nsionally, ensuring that both parties are treated fairly and that all outstanding obligations\\nare met before the Agreement is concluded.\\n5 5. Confidentiality\\n5.1 Confidential Information Definition\\nDuring the term of this Agreement, both parties acknowledge that they may come into\\ncontact with confidential and proprietary information of the other party. Such information\\nincludes, but is not limited to, business plans, technical data, customer information,\\nfinancial data, and intellectual property. Both parties agree to keep this information\\nconfidential and to use it only for the purposes specified in this Agreement.\\n5.2 Obligations of Non-Disclosure\\nThe Client agrees not to disclose any confidential information to third parties without\\nthe prior written consent of The Company. Similarly, The Company agrees to maintain\\nthe confidentiality of any proprietary or sensitive information shared by the Client. This\\nobligation will survive the termination of this Agreement and remain in effect for a period\\nof [Insert duration] years following the conclusion of the business relationship.\\n3'),\n",
       " Document(metadata={'producer': 'pdfTeX-1.40.26', 'creator': 'LaTeX with hyperref', 'creationdate': '2025-04-29T08:52:16+00:00', 'author': '', 'keywords': '', 'moddate': '2025-04-29T08:52:16+00:00', 'ptex.fullbanner': 'This is pdfTeX, Version 3.141592653-2.6-1.40.26 (TeX Live 2024) kpathsea version 6.4.0', 'subject': '', 'title': '', 'trapped': '/False', 'source': 'Juridique.pdf', 'total_pages': 5, 'page': 3, 'page_label': '4'}, page_content='TOPG Informatics Legal Agreement\\n5.3 Exceptions to Confidentiality\\nConfidentiality does not apply in cases where the information is already in the public\\ndomain, was independently developed by the receiving party, or is required to be disclosed\\nby law. In such cases, the party required to disclose the information will provide written\\nnotice to the other party prior to disclosure.\\n6 6. Indemnification and Liability\\n6.1 Indemnification Clause\\nBoth parties agree to indemnify and hold each other harmless from any claims, damages,\\nor liabilities arising out of the breach of this Agreement. The Company will indemnify\\nthe Client against any claims resulting from its negligence, failure to meet obligations,\\nor breach of confidentiality. Similarly, The Client will indemnify The Company for any\\ndamages resulting from the Client’s use of the services, including violations of intellectual\\nproperty rights or misuse of confidential information.\\n6.2 Limitation of Liability\\nThe liability of The Company for any direct damages caused by its breach of the terms\\nof this Agreement shall not exceed the total amount paid by the Client for the services\\nrendered. Under no circumstances will either party be held liable for any indirect, con-\\nsequential, or punitive damages arising from the performance or non-performance of this\\nAgreement.\\n6.3 Responsibility for Damages\\nBoth parties agree to take all necessary precautions to avoid incidents that may result in\\nliabilities and agree to cooperate in the resolution of any disputes or claims that arise.\\nThe intention of this provision is to limit liability to prevent undue financial harm to\\neither party, while ensuring the responsibility for damages is clearly defined.\\n7 7. Governing Law and Dispute Resolution\\n7.1 Applicable Law\\nThis Agreement shall be governed by the laws of Morocco. Any disputes arising from\\nthis Agreement will be resolved in accordance with Moroccan law. The parties agree to\\nattempt to resolve any disagreements through informal discussions or mediation before\\nresorting to formal dispute resolution procedures.\\n7.2 Arbitration Procedure\\nIf the dispute cannot be resolved informally, the parties agree to submit the matter to\\nbinding arbitration. The arbitration process will be conducted under the rules of [Insert\\nArbitration Institution], with the venue located in [Insert City]. The decision of the\\narbitrator will be final and binding on both parties.\\n4'),\n",
       " Document(metadata={'producer': 'pdfTeX-1.40.26', 'creator': 'LaTeX with hyperref', 'creationdate': '2025-04-29T08:52:16+00:00', 'author': '', 'keywords': '', 'moddate': '2025-04-29T08:52:16+00:00', 'ptex.fullbanner': 'This is pdfTeX, Version 3.141592653-2.6-1.40.26 (TeX Live 2024) kpathsea version 6.4.0', 'subject': '', 'title': '', 'trapped': '/False', 'source': 'Juridique.pdf', 'total_pages': 5, 'page': 4, 'page_label': '5'}, page_content='TOPG Informatics Legal Agreement\\n7.3 Court Jurisdiction\\nIn cases where arbitration is not applicable, the parties agree to submit to the exclusive\\njurisdiction of the courts located in [Insert City], Morocco, for the resolution of any legal\\ndisputes.\\n8 8. Miscellaneous\\n8.1 Entire Agreement\\nThis Agreement represents the entire understanding between the parties. Any amend-\\nments to this Agreement must be made in writing and signed by both parties. No oral or\\nimplied agreements will be considered valid unless they are included in the written form.\\n8.2 Assignment of Rights\\nNeither party may assign or transfer their rights and obligations under this Agreement\\nwithout the prior written consent of the other party. Any assignment made without\\nconsent will be considered void.\\n8.3 Severability\\nIn the event that any provision of this Agreement is found to be unenforceable, the\\nremaining provisions will continue in full force and effect. The parties agree to negotiate\\nin good faith to amend any unenforceable provisions to reflect the original intent of the\\nAgreement.\\n5')]"
      ]
     },
     "execution_count": 6,
     "metadata": {},
     "output_type": "execute_result"
    }
   ],
   "source": [
    "all_pages"
   ]
  },
  {
   "cell_type": "code",
   "execution_count": 7,
   "metadata": {},
   "outputs": [
    {
     "data": {
      "text/plain": [
       "Document(metadata={'producer': 'pdfTeX-1.40.26', 'creator': 'LaTeX with hyperref', 'creationdate': '2025-04-29T08:26:50+00:00', 'author': '', 'keywords': '', 'moddate': '2025-04-29T08:26:50+00:00', 'ptex.fullbanner': 'This is pdfTeX, Version 3.141592653-2.6-1.40.26 (TeX Live 2024) kpathsea version 6.4.0', 'subject': '', 'title': '', 'trapped': '/False', 'source': 'Finance.pdf', 'total_pages': 5, 'page': 0, 'page_label': '1'}, page_content='April 29, 2025\\n1. Company Overview\\n1.1 Introduction to TOPG Informatics\\nTOPG Informatics is a forward-thinking IT services company founded in 2022 with a\\nmission to democratize access to high-quality digital solutions. Based in Morocco, the\\ncompany operates across several fields including software development, IT consulting,\\ncybersecurity, network architecture, data engineering, and cloud services. With a skilled\\nworkforce and a strong commitment to innovation, TOPG has rapidly gained a solid\\nreputation among SMEs, governmental institutions, and private organizations.\\n1.2 Mission and Vision\\nTOPG’s mission is to empower businesses through smart and scalable IT solutions. The\\nvision is to become a leading provider of integrated technology services in North Africa,\\nfocusing on innovation, sustainability, and excellence. The company promotes a culture\\nof continuous learning and places customer satisfaction at the heart of its operations.\\n1.3 Core Values\\nIntegrity, innovation, client-centricity, collaboration, and efficiency are the pillars that\\nguide TOPG’s strategic decisions. The company believes in long-term partnerships and\\naims to deliver tangible value through every project it undertakes.\\n2. Business Model\\n2.1 Revenue Streams\\nTOPGgeneratesitsincomethroughacombinationofproject-basedsoftwaredevelopment,\\nIT maintenance contracts, and specialized services such as penetration testing and cloud\\n1')"
      ]
     },
     "execution_count": 7,
     "metadata": {},
     "output_type": "execute_result"
    }
   ],
   "source": [
    "all_pages[0]"
   ]
  },
  {
   "cell_type": "code",
   "execution_count": 10,
   "metadata": {},
   "outputs": [
    {
     "data": {
      "text/plain": [
       "14"
      ]
     },
     "execution_count": 10,
     "metadata": {},
     "output_type": "execute_result"
    }
   ],
   "source": [
    "len(all_pages)"
   ]
  },
  {
   "cell_type": "code",
   "execution_count": 11,
   "metadata": {},
   "outputs": [
    {
     "name": "stdout",
     "output_type": "stream",
     "text": [
      "70\n",
      "<class 'langchain_core.documents.base.Document'>\n"
     ]
    }
   ],
   "source": [
    "from langchain_text_splitters import CharacterTextSplitter\n",
    "\n",
    "text_splitter = CharacterTextSplitter(\n",
    "    separator=\"\\n\",           \n",
    "    chunk_size=500,\n",
    "    chunk_overlap=100\n",
    ")\n",
    "\n",
    "chunks = text_splitter.split_documents(all_pages)\n",
    "\n",
    "print(len(chunks))\n",
    "print(type(chunks[0]))"
   ]
  },
  {
   "cell_type": "code",
   "execution_count": 12,
   "metadata": {},
   "outputs": [],
   "source": [
    "from langchain_google_genai import GoogleGenerativeAIEmbeddings\n",
    "\n",
    "embedding_model = GoogleGenerativeAIEmbeddings(google_api_key=key, model=\"models/embedding-001\")"
   ]
  },
  {
   "cell_type": "code",
   "execution_count": 13,
   "metadata": {},
   "outputs": [
    {
     "name": "stderr",
     "output_type": "stream",
     "text": [
      "C:\\Users\\issam\\AppData\\Local\\Temp\\ipykernel_17104\\3283715903.py:5: LangChainDeprecationWarning: Since Chroma 0.4.x the manual persistence method is no longer supported as docs are automatically persisted.\n",
      "  db.persist()\n"
     ]
    }
   ],
   "source": [
    "from langchain_community.vectorstores import Chroma\n",
    "\n",
    "db = Chroma.from_documents(chunks, embedding_model, persist_directory=\"./chroma_db_\")\n",
    "\n",
    "db.persist()"
   ]
  },
  {
   "cell_type": "code",
   "execution_count": 14,
   "metadata": {},
   "outputs": [
    {
     "name": "stderr",
     "output_type": "stream",
     "text": [
      "C:\\Users\\issam\\AppData\\Local\\Temp\\ipykernel_17104\\602975441.py:1: LangChainDeprecationWarning: The class `Chroma` was deprecated in LangChain 0.2.9 and will be removed in 1.0. An updated version of the class exists in the :class:`~langchain-chroma package and should be used instead. To use it run `pip install -U :class:`~langchain-chroma` and import as `from :class:`~langchain_chroma import Chroma``.\n",
      "  db_connection = Chroma(persist_directory=\"./chroma_db_\", embedding_function=embedding_model)\n"
     ]
    }
   ],
   "source": [
    "db_connection = Chroma(persist_directory=\"./chroma_db_\", embedding_function=embedding_model)"
   ]
  },
  {
   "cell_type": "code",
   "execution_count": 15,
   "metadata": {},
   "outputs": [
    {
     "name": "stdout",
     "output_type": "stream",
     "text": [
      "<class 'langchain_core.vectorstores.base.VectorStoreRetriever'>\n"
     ]
    }
   ],
   "source": [
    "retriever = db_connection.as_retriever(search_kwargs={\"k\": 5})\n",
    "\n",
    "print(type(retriever))"
   ]
  },
  {
   "cell_type": "code",
   "execution_count": 16,
   "metadata": {},
   "outputs": [],
   "source": [
    "from langchain_core.messages import SystemMessage\n",
    "from langchain_core.prompts import ChatPromptTemplate, HumanMessagePromptTemplate\n",
    "chat_template = ChatPromptTemplate.from_messages([\n",
    "    SystemMessage(content=\"\"\"You are a Helpful AI Bot.\n",
    "                  Given a context and question from user,\n",
    "                  you should answer based on the given context.\"\"\"),\n",
    "    HumanMessagePromptTemplate.from_template(\"\"\"Answer the question based on the given context.\n",
    "    Context: {context}\n",
    "    Question: {question}\n",
    "    Answer: \"\"\")\n",
    "])"
   ]
  },
  {
   "cell_type": "code",
   "execution_count": 17,
   "metadata": {},
   "outputs": [],
   "source": [
    "from langchain_core.output_parsers import StrOutputParser\n",
    "\n",
    "output_parser = StrOutputParser()"
   ]
  },
  {
   "cell_type": "code",
   "execution_count": 18,
   "metadata": {},
   "outputs": [],
   "source": [
    "from langchain_core.runnables import RunnablePassthrough\n",
    "\n",
    "def format_docs(docs):\n",
    "    return \"\\n\\n\".join(doc.page_content for doc in docs)\n",
    "\n",
    "\n",
    "rag_chain = (\n",
    "    {\"context\": retriever | format_docs, \"question\": RunnablePassthrough()}\n",
    "    | chat_template\n",
    "    | chat_model\n",
    "    | output_parser\n",
    ")"
   ]
  },
  {
   "cell_type": "code",
   "execution_count": 22,
   "metadata": {},
   "outputs": [
    {
     "data": {
      "text/plain": [
       "'Python, Java, JavaScript, C++, and PHP.'"
      ]
     },
     "execution_count": 22,
     "metadata": {},
     "output_type": "execute_result"
    }
   ],
   "source": [
    "response = rag_chain.invoke(\"\"\"Which programming languages are mentioned in the document as part of TOPG Informatics' technology stack?\"\"\")\n",
    "\n",
    "response"
   ]
  },
  {
   "cell_type": "code",
   "execution_count": 50,
   "metadata": {},
   "outputs": [
    {
     "data": {
      "text/markdown": [
       "Leave No Context Behind introduces Infini-attention, a new attention mechanism for Transformer-based Large Language Models (LLMs).  Infini-attention allows LLMs to handle infinitely long input sequences with limited memory and computation by combining compressive memory, masked local attention, and long-term linear attention within a single Transformer block.  This approach enables continual pre-training and fine-tuning on extended contexts.  The effectiveness of Infini-attention is demonstrated on long-context language modeling, passkey retrieval with 1M sequence length, and book summarization with 500K length using 1B and 8B parameter LLMs."
      ],
      "text/plain": [
       "<IPython.core.display.Markdown object>"
      ]
     },
     "execution_count": 50,
     "metadata": {},
     "output_type": "execute_result"
    }
   ],
   "source": [
    "from IPython.display import Markdown as md\n",
    "\n",
    "md(response)"
   ]
  },
  {
   "cell_type": "code",
   "execution_count": 55,
   "metadata": {},
   "outputs": [
    {
     "data": {
      "text/plain": [
       "'The provided text describes Memory-augmented Compressive Transformer (MCT), not MCP.  It explains that MCT augments the standard multi-head attention (MHA) mechanism with parallel \"compressive memories.\"  Unlike the standard Transformer\\'s key-value (KV) memory, which grows with input length, compressive memory maintains a constant size for efficiency.  The MCT combines the strengths of both MHA (for context-dependent computation) and compressive memory (for efficient information storage and retrieval).'"
      ]
     },
     "execution_count": 55,
     "metadata": {},
     "output_type": "execute_result"
    }
   ],
   "source": [
    "response = rag_chain.invoke(\"\"\"Please Explain MCP\n",
    "                            \"\"\")\n",
    "\n",
    "response"
   ]
  }
 ],
 "metadata": {
  "kernelspec": {
   "display_name": "Python 3",
   "language": "python",
   "name": "python3"
  },
  "language_info": {
   "codemirror_mode": {
    "name": "ipython",
    "version": 3
   },
   "file_extension": ".py",
   "mimetype": "text/x-python",
   "name": "python",
   "nbconvert_exporter": "python",
   "pygments_lexer": "ipython3",
   "version": "3.13.3"
  }
 },
 "nbformat": 4,
 "nbformat_minor": 2
}
