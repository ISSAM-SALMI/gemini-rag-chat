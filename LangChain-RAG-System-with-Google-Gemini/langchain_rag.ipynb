{
 "cells": [
  {
   "cell_type": "code",
   "execution_count": 21,
   "metadata": {},
   "outputs": [],
   "source": [
    "with open(\"gemini_api_key.txt\") as f:\n",
    "    key = f.read().strip()"
   ]
  },
  {
   "cell_type": "code",
   "execution_count": 3,
   "metadata": {},
   "outputs": [
    {
     "name": "stdout",
     "output_type": "stream",
     "text": [
      "model='models/gemini-1.5-pro-latest' google_api_key=SecretStr('**********') client=<google.ai.generativelanguage_v1beta.services.generative_service.client.GenerativeServiceClient object at 0x0000017AD5B73770> default_metadata=()\n"
     ]
    }
   ],
   "source": [
    "from langchain_google_genai import ChatGoogleGenerativeAI\n",
    "\n",
    "chat_model = ChatGoogleGenerativeAI(google_api_key=key, \n",
    "                                   model=\"gemini-1.5-pro-latest\")\n",
    "print(chat_model)"
   ]
  },
  {
   "cell_type": "code",
   "execution_count": 4,
   "metadata": {},
   "outputs": [],
   "source": [
    "from langchain_community.document_loaders import PyPDFLoader\n",
    "\n",
    "loader = PyPDFLoader(\"Finance.pdf\")\n",
    "pages = loader.load_and_split()"
   ]
  },
  {
   "cell_type": "code",
   "execution_count": 5,
   "metadata": {},
   "outputs": [
    {
     "data": {
      "text/plain": [
       "[Document(metadata={'producer': 'pdfTeX-1.40.26', 'creator': 'LaTeX with hyperref', 'creationdate': '2025-04-29T08:26:50+00:00', 'author': '', 'keywords': '', 'moddate': '2025-04-29T08:26:50+00:00', 'ptex.fullbanner': 'This is pdfTeX, Version 3.141592653-2.6-1.40.26 (TeX Live 2024) kpathsea version 6.4.0', 'subject': '', 'title': '', 'trapped': '/False', 'source': 'Finance.pdf', 'total_pages': 5, 'page': 0, 'page_label': '1'}, page_content='April 29, 2025\\n1. Company Overview\\n1.1 Introduction to TOPG Informatics\\nTOPG Informatics is a forward-thinking IT services company founded in 2022 with a\\nmission to democratize access to high-quality digital solutions. Based in Morocco, the\\ncompany operates across several fields including software development, IT consulting,\\ncybersecurity, network architecture, data engineering, and cloud services. With a skilled\\nworkforce and a strong commitment to innovation, TOPG has rapidly gained a solid\\nreputation among SMEs, governmental institutions, and private organizations.\\n1.2 Mission and Vision\\nTOPG’s mission is to empower businesses through smart and scalable IT solutions. The\\nvision is to become a leading provider of integrated technology services in North Africa,\\nfocusing on innovation, sustainability, and excellence. The company promotes a culture\\nof continuous learning and places customer satisfaction at the heart of its operations.\\n1.3 Core Values\\nIntegrity, innovation, client-centricity, collaboration, and efficiency are the pillars that\\nguide TOPG’s strategic decisions. The company believes in long-term partnerships and\\naims to deliver tangible value through every project it undertakes.\\n2. Business Model\\n2.1 Revenue Streams\\nTOPGgeneratesitsincomethroughacombinationofproject-basedsoftwaredevelopment,\\nIT maintenance contracts, and specialized services such as penetration testing and cloud\\n1'),\n",
       " Document(metadata={'producer': 'pdfTeX-1.40.26', 'creator': 'LaTeX with hyperref', 'creationdate': '2025-04-29T08:26:50+00:00', 'author': '', 'keywords': '', 'moddate': '2025-04-29T08:26:50+00:00', 'ptex.fullbanner': 'This is pdfTeX, Version 3.141592653-2.6-1.40.26 (TeX Live 2024) kpathsea version 6.4.0', 'subject': '', 'title': '', 'trapped': '/False', 'source': 'Finance.pdf', 'total_pages': 5, 'page': 1, 'page_label': '2'}, page_content='Financial Report TOPG Informatics\\nmigration. A growing share of revenue also comes from subscription-based SaaS products\\nand professional training sessions tailored to the digital transformation needs of clients.\\n2.2 Service Delivery Strategy\\nThe company leverages Agile methodologies and DevOps practices to ensure fast and\\nsecure delivery of IT services. It utilizes both in-house and cloud-based infrastructure\\nto reduce operational overhead and improve scalability. This hybrid model has allowed\\nTOPG to maintain competitive pricing while ensuring premium service quality.\\n2.3 Customer Relationship and Retention\\nTOPG places a high priority on customer engagement, offering continuous support, sys-\\ntem upgrades, and post-deployment training. Client retention strategies include loyalty\\ndiscounts, technical newsletters, and feedback-driven service improvements.\\n3. Financial Performance Overview\\n3.1 Revenue Growth\\nSince its creation, TOPG has shown consistent revenue growth, with a compound annual\\ngrowth rate (CAGR) of 32%. In 2024, the company surpassed its projected revenue target\\nby 15%, driven by major client acquisitions and expanded market reach.\\n3.2 Profitability\\nDespite high initial investment in infrastructure and personnel, the company achieved\\na healthy profit margin. This was made possible through effective cost management,\\noutsourcing of non-core activities, and strategic project pricing.\\n3.3 Liquidity and Solvency\\nTOPG maintains strong liquidity ratios, ensuring the company can meet its short-term\\nobligations. It avoids long-term debt and finances most of its expansion through retained\\nearnings and strategic reinvestments.\\n2'),\n",
       " Document(metadata={'producer': 'pdfTeX-1.40.26', 'creator': 'LaTeX with hyperref', 'creationdate': '2025-04-29T08:26:50+00:00', 'author': '', 'keywords': '', 'moddate': '2025-04-29T08:26:50+00:00', 'ptex.fullbanner': 'This is pdfTeX, Version 3.141592653-2.6-1.40.26 (TeX Live 2024) kpathsea version 6.4.0', 'subject': '', 'title': '', 'trapped': '/False', 'source': 'Finance.pdf', 'total_pages': 5, 'page': 2, 'page_label': '3'}, page_content='Financial Report TOPG Informatics\\n4. Expense Analysis\\n4.1 Operational Expenses\\nThe majority of operational costs are attributed to employee salaries, reflecting the techni-\\ncal expertise required to deliver complex IT solutions. The company also incurs expenses\\nin software licensing, equipment maintenance, cloud infrastructure, and office utilities.\\n4.2 Administrative and Legal Costs\\nAdministrative expenses include office rent, legal compliance fees, and insurance. These\\ncosts are kept under control through digital document management systems and remote\\nwork policies, which reduce physical overhead.\\n4.3 Marketing and Client Acquisition\\nThe company allocates a modest budget for marketing activities, including digital cam-\\npaigns, tech conferences, and client events. However, a large part of business growth is\\nattributed to word-of-mouth and referral-based acquisition due to the quality of service\\ndelivered.\\n5. Investment Strategy\\n5.1 Technology and Infrastructure\\nTOPG reinvests a significant portion of its profits into upgrading its technical infrastruc-\\nture. Recent investments include scalable cloud platforms, enhanced cybersecurity tools,\\nand AI-based development frameworks.\\n5.2 Human Capital Development\\nRecognizing the importance of talent, the company invests in continuous professional de-\\nvelopment. Employees are encouraged to earn certifications in cloud engineering, DevOps,\\ndata science, and project management.\\n5.3 Research and Development (R&D)\\nTOPG allocates part of its budget to R&D initiatives focused on automation, blockchain,\\nand machine learning applications. The objective is to anticipate industry trends and\\ndevelop intellectual property that enhances the company’s service offerings.\\n3'),\n",
       " Document(metadata={'producer': 'pdfTeX-1.40.26', 'creator': 'LaTeX with hyperref', 'creationdate': '2025-04-29T08:26:50+00:00', 'author': '', 'keywords': '', 'moddate': '2025-04-29T08:26:50+00:00', 'ptex.fullbanner': 'This is pdfTeX, Version 3.141592653-2.6-1.40.26 (TeX Live 2024) kpathsea version 6.4.0', 'subject': '', 'title': '', 'trapped': '/False', 'source': 'Finance.pdf', 'total_pages': 5, 'page': 3, 'page_label': '4'}, page_content='Financial Report TOPG Informatics\\n6. Future Growth and Strategic Outlook\\n6.1 Market Expansion\\nTOPG plans to extend its services to new geographic regions, including French-speaking\\nAfrican countries. Strategic partnerships and franchising opportunities are being explored\\nto facilitate international growth.\\n6.2 Product Diversification\\nThe company is working on several new SaaS platforms aimed at small businesses. These\\ninclude tools for invoice automation, project tracking, and secure file storage, designed\\nwith a user-friendly interface and competitive pricing.\\n6.3 Sustainability and Social Responsibility\\nTOPG is committed to sustainable practices. This includes energy-efficient office oper-\\nations, digital resource sharing, and involvement in educational programs that promote\\ncoding and digital skills among youth.\\n7. Risk Management\\n7.1 Financial Risks\\nTOPG mitigates financial risk by diversifying its revenue sources and maintaining a buffer\\nof liquid assets. Regular audits and forecasting tools are used to monitor financial health\\nand adjust strategies accordingly.\\n7.2 Cybersecurity Threats\\nGiven the nature of its operations, the company places a strong emphasis on cybersecurity.\\nFirewalls, endpoint protection, and continuous threat monitoring are implemented to\\nensure data safety and business continuity.\\n7.3 Talent Retention\\nTo reduce employee turnover, TOPG fosters a positive work culture with flexibility, recog-\\nnition programs, and career growth opportunities. Retention strategies also include men-\\ntorship, performance bonuses, and collaborative project opportunities.\\n4'),\n",
       " Document(metadata={'producer': 'pdfTeX-1.40.26', 'creator': 'LaTeX with hyperref', 'creationdate': '2025-04-29T08:26:50+00:00', 'author': '', 'keywords': '', 'moddate': '2025-04-29T08:26:50+00:00', 'ptex.fullbanner': 'This is pdfTeX, Version 3.141592653-2.6-1.40.26 (TeX Live 2024) kpathsea version 6.4.0', 'subject': '', 'title': '', 'trapped': '/False', 'source': 'Finance.pdf', 'total_pages': 5, 'page': 4, 'page_label': '5'}, page_content='Financial Report TOPG Informatics\\n8. Conclusion and Final Thoughts\\nTOPG Informatics has positioned itself as a strong player in the Moroccan tech ecosystem.\\nItssoundfinancialpractices, customer-focusedservices, andinnovative mindsetcontribute\\nto its sustainable success. The future outlook is promising, with opportunities for regional\\nexpansion, new product launches, and technological leadership.\\nThrough disciplined investment, a loyal client base, and a visionary leadership team,\\nTOPG is well-prepared to scale new heights in the coming years. Financially stable and\\nstrategically focused, the company continues to deliver measurable value to stakeholders\\nand shape the future of digital transformation in North Africa.\\n5')]"
      ]
     },
     "execution_count": 5,
     "metadata": {},
     "output_type": "execute_result"
    }
   ],
   "source": [
    "pages"
   ]
  },
  {
   "cell_type": "code",
   "execution_count": 6,
   "metadata": {},
   "outputs": [
    {
     "data": {
      "text/plain": [
       "Document(metadata={'producer': 'pdfTeX-1.40.26', 'creator': 'LaTeX with hyperref', 'creationdate': '2025-04-29T08:26:50+00:00', 'author': '', 'keywords': '', 'moddate': '2025-04-29T08:26:50+00:00', 'ptex.fullbanner': 'This is pdfTeX, Version 3.141592653-2.6-1.40.26 (TeX Live 2024) kpathsea version 6.4.0', 'subject': '', 'title': '', 'trapped': '/False', 'source': 'Finance.pdf', 'total_pages': 5, 'page': 0, 'page_label': '1'}, page_content='April 29, 2025\\n1. Company Overview\\n1.1 Introduction to TOPG Informatics\\nTOPG Informatics is a forward-thinking IT services company founded in 2022 with a\\nmission to democratize access to high-quality digital solutions. Based in Morocco, the\\ncompany operates across several fields including software development, IT consulting,\\ncybersecurity, network architecture, data engineering, and cloud services. With a skilled\\nworkforce and a strong commitment to innovation, TOPG has rapidly gained a solid\\nreputation among SMEs, governmental institutions, and private organizations.\\n1.2 Mission and Vision\\nTOPG’s mission is to empower businesses through smart and scalable IT solutions. The\\nvision is to become a leading provider of integrated technology services in North Africa,\\nfocusing on innovation, sustainability, and excellence. The company promotes a culture\\nof continuous learning and places customer satisfaction at the heart of its operations.\\n1.3 Core Values\\nIntegrity, innovation, client-centricity, collaboration, and efficiency are the pillars that\\nguide TOPG’s strategic decisions. The company believes in long-term partnerships and\\naims to deliver tangible value through every project it undertakes.\\n2. Business Model\\n2.1 Revenue Streams\\nTOPGgeneratesitsincomethroughacombinationofproject-basedsoftwaredevelopment,\\nIT maintenance contracts, and specialized services such as penetration testing and cloud\\n1')"
      ]
     },
     "execution_count": 6,
     "metadata": {},
     "output_type": "execute_result"
    }
   ],
   "source": [
    "pages[0]"
   ]
  },
  {
   "cell_type": "code",
   "execution_count": 7,
   "metadata": {},
   "outputs": [
    {
     "data": {
      "text/plain": [
       "5"
      ]
     },
     "execution_count": 7,
     "metadata": {},
     "output_type": "execute_result"
    }
   ],
   "source": [
    "len(pages)"
   ]
  },
  {
   "cell_type": "code",
   "execution_count": 10,
   "metadata": {},
   "outputs": [
    {
     "name": "stdout",
     "output_type": "stream",
     "text": [
      "19\n",
      "<class 'langchain_core.documents.base.Document'>\n"
     ]
    }
   ],
   "source": [
    "from langchain_text_splitters import CharacterTextSplitter\n",
    "\n",
    "text_splitter = CharacterTextSplitter(\n",
    "    separator=\"\\n\",           \n",
    "    chunk_size=500,\n",
    "    chunk_overlap=100\n",
    ")\n",
    "\n",
    "chunks = text_splitter.split_documents(pages)\n",
    "\n",
    "print(len(chunks))\n",
    "print(type(chunks[0]))"
   ]
  },
  {
   "cell_type": "code",
   "execution_count": 11,
   "metadata": {},
   "outputs": [],
   "source": [
    "from langchain_google_genai import GoogleGenerativeAIEmbeddings\n",
    "\n",
    "embedding_model = GoogleGenerativeAIEmbeddings(google_api_key=key, model=\"models/embedding-001\")"
   ]
  },
  {
   "cell_type": "code",
   "execution_count": 12,
   "metadata": {},
   "outputs": [
    {
     "name": "stderr",
     "output_type": "stream",
     "text": [
      "C:\\Users\\issam\\AppData\\Local\\Temp\\ipykernel_4420\\3283715903.py:5: LangChainDeprecationWarning: Since Chroma 0.4.x the manual persistence method is no longer supported as docs are automatically persisted.\n",
      "  db.persist()\n"
     ]
    }
   ],
   "source": [
    "from langchain_community.vectorstores import Chroma\n",
    "\n",
    "db = Chroma.from_documents(chunks, embedding_model, persist_directory=\"./chroma_db_\")\n",
    "\n",
    "db.persist()"
   ]
  },
  {
   "cell_type": "code",
   "execution_count": 13,
   "metadata": {},
   "outputs": [
    {
     "name": "stderr",
     "output_type": "stream",
     "text": [
      "C:\\Users\\issam\\AppData\\Local\\Temp\\ipykernel_4420\\602975441.py:1: LangChainDeprecationWarning: The class `Chroma` was deprecated in LangChain 0.2.9 and will be removed in 1.0. An updated version of the class exists in the :class:`~langchain-chroma package and should be used instead. To use it run `pip install -U :class:`~langchain-chroma` and import as `from :class:`~langchain_chroma import Chroma``.\n",
      "  db_connection = Chroma(persist_directory=\"./chroma_db_\", embedding_function=embedding_model)\n"
     ]
    }
   ],
   "source": [
    "db_connection = Chroma(persist_directory=\"./chroma_db_\", embedding_function=embedding_model)"
   ]
  },
  {
   "cell_type": "code",
   "execution_count": 14,
   "metadata": {},
   "outputs": [
    {
     "name": "stdout",
     "output_type": "stream",
     "text": [
      "<class 'langchain_core.vectorstores.base.VectorStoreRetriever'>\n"
     ]
    }
   ],
   "source": [
    "retriever = db_connection.as_retriever(search_kwargs={\"k\": 5})\n",
    "\n",
    "print(type(retriever))"
   ]
  },
  {
   "cell_type": "code",
   "execution_count": null,
   "metadata": {},
   "outputs": [],
   "source": [
    "from langchain_core.messages import SystemMessage\n",
    "from langchain_core.prompts import ChatPromptTemplate, HumanMessagePromptTemplate\n",
    "chat_template = ChatPromptTemplate.from_messages([\n",
    "    SystemMessage(content=\"\"\"You are a Helpful AI Bot.\n",
    "                  Given a context and question from user,\n",
    "                  you should answer based on the given context.\"\"\"),\n",
    "    HumanMessagePromptTemplate.from_template(\"\"\"Answer the question based on the given context.\n",
    "    Context: {context}\n",
    "    Question: {question}\n",
    "    Answer: \"\"\")\n",
    "])"
   ]
  },
  {
   "cell_type": "code",
   "execution_count": 17,
   "metadata": {},
   "outputs": [],
   "source": [
    "from langchain_core.output_parsers import StrOutputParser\n",
    "\n",
    "output_parser = StrOutputParser()"
   ]
  },
  {
   "cell_type": "code",
   "execution_count": 18,
   "metadata": {},
   "outputs": [],
   "source": [
    "from langchain_core.runnables import RunnablePassthrough\n",
    "\n",
    "def format_docs(docs):\n",
    "    return \"\\n\\n\".join(doc.page_content for doc in docs)\n",
    "\n",
    "\n",
    "rag_chain = (\n",
    "    {\"context\": retriever | format_docs, \"question\": RunnablePassthrough()}\n",
    "    | chat_template\n",
    "    | chat_model\n",
    "    | output_parser\n",
    ")"
   ]
  },
  {
   "cell_type": "code",
   "execution_count": 20,
   "metadata": {},
   "outputs": [
    {
     "data": {
      "text/plain": [
       "'The main operational expenses are employee salaries, software licensing, equipment maintenance, cloud infrastructure, and office utilities.'"
      ]
     },
     "execution_count": 20,
     "metadata": {},
     "output_type": "execute_result"
    }
   ],
   "source": [
    "response = rag_chain.invoke(\"\"\"What are the main operational expenses of the company?\"\"\")\n",
    "\n",
    "response"
   ]
  },
  {
   "cell_type": "code",
   "execution_count": 50,
   "metadata": {},
   "outputs": [
    {
     "data": {
      "text/markdown": [
       "Leave No Context Behind introduces Infini-attention, a new attention mechanism for Transformer-based Large Language Models (LLMs).  Infini-attention allows LLMs to handle infinitely long input sequences with limited memory and computation by combining compressive memory, masked local attention, and long-term linear attention within a single Transformer block.  This approach enables continual pre-training and fine-tuning on extended contexts.  The effectiveness of Infini-attention is demonstrated on long-context language modeling, passkey retrieval with 1M sequence length, and book summarization with 500K length using 1B and 8B parameter LLMs."
      ],
      "text/plain": [
       "<IPython.core.display.Markdown object>"
      ]
     },
     "execution_count": 50,
     "metadata": {},
     "output_type": "execute_result"
    }
   ],
   "source": [
    "from IPython.display import Markdown as md\n",
    "\n",
    "md(response)"
   ]
  },
  {
   "cell_type": "code",
   "execution_count": 55,
   "metadata": {},
   "outputs": [
    {
     "data": {
      "text/plain": [
       "'The provided text describes Memory-augmented Compressive Transformer (MCT), not MCP.  It explains that MCT augments the standard multi-head attention (MHA) mechanism with parallel \"compressive memories.\"  Unlike the standard Transformer\\'s key-value (KV) memory, which grows with input length, compressive memory maintains a constant size for efficiency.  The MCT combines the strengths of both MHA (for context-dependent computation) and compressive memory (for efficient information storage and retrieval).'"
      ]
     },
     "execution_count": 55,
     "metadata": {},
     "output_type": "execute_result"
    }
   ],
   "source": [
    "response = rag_chain.invoke(\"\"\"Please Explain MCP\n",
    "                            \"\"\")\n",
    "\n",
    "response"
   ]
  }
 ],
 "metadata": {
  "kernelspec": {
   "display_name": "Python 3",
   "language": "python",
   "name": "python3"
  },
  "language_info": {
   "codemirror_mode": {
    "name": "ipython",
    "version": 3
   },
   "file_extension": ".py",
   "mimetype": "text/x-python",
   "name": "python",
   "nbconvert_exporter": "python",
   "pygments_lexer": "ipython3",
   "version": "3.13.3"
  }
 },
 "nbformat": 4,
 "nbformat_minor": 2
}
